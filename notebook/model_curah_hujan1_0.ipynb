{
  "cells": [
    {
      "cell_type": "code",
      "execution_count": 39,
      "id": "55487903",
      "metadata": {
        "id": "55487903"
      },
      "outputs": [],
      "source": [
        "import pandas as pd\n",
        "import numpy as np\n",
        "import seaborn as sns\n",
        "import matplotlib.pyplot as plt\n",
        "from sklearn.preprocessing import LabelEncoder, StandardScaler\n",
        "from sklearn.impute import SimpleImputer\n",
        "from imblearn.over_sampling import SMOTE\n",
        "from sklearn.model_selection import train_test_split\n",
        "from collections import Counter\n",
        "from sklearn.naive_bayes import GaussianNB\n",
        "from sklearn.neighbors import KNeighborsClassifier\n",
        "from sklearn.ensemble import RandomForestClassifier\n",
        "from sklearn.metrics import classification_report, confusion_matrix, accuracy_score"
      ]
    },
    {
      "cell_type": "code",
      "execution_count": 40,
      "id": "faf83a21",
      "metadata": {
        "id": "faf83a21"
      },
      "outputs": [],
      "source": [
        "\n",
        "# Load dataset\n",
        "df = pd.read_excel('../data/Dataset_2020-2024.xlsx')"
      ]
    },
    {
      "cell_type": "code",
      "execution_count": 41,
      "id": "32a3872f",
      "metadata": {
        "colab": {
          "base_uri": "https://localhost:8080/"
        },
        "id": "32a3872f",
        "outputId": "187ad159-2387-4be0-853d-83bb5667ba7a"
      },
      "outputs": [
        {
          "name": "stdout",
          "output_type": "stream",
          "text": [
            "\n",
            "--- Informasi Setelah Penggantian NaN & Konversi Tipe ---\n",
            "<class 'pandas.core.frame.DataFrame'>\n",
            "RangeIndex: 1814 entries, 0 to 1813\n",
            "Data columns (total 6 columns):\n",
            " #   Column  Non-Null Count  Dtype  \n",
            "---  ------  --------------  -----  \n",
            " 0   TN      1633 non-null   float64\n",
            " 1   TX      1770 non-null   float64\n",
            " 2   TAVG    1794 non-null   float64\n",
            " 3   RH_AVG  1796 non-null   float64\n",
            " 4   RR      1327 non-null   float64\n",
            " 5   SS      1760 non-null   float64\n",
            "dtypes: float64(6)\n",
            "memory usage: 85.2 KB\n",
            "\n",
            "--- 10 Baris Pertama Setelah Penggantian NaN & Konversi Tipe ---\n",
            "      TANGGAL    TN    TX  TAVG  RH_AVG    RR   SS  FF_X  DDD_X  FF_AVG  \\\n",
            "0  01-01-2020  25.0  31.2  25.4    91.0  19.9  3.2    10    220       2   \n",
            "1  02-01-2020  24.2  32.0  27.5    85.0  14.8  1.0     4    240       1   \n",
            "2  03-01-2020  25.1  32.0  27.5    86.0   2.1  3.5     8    250       2   \n",
            "3  04-01-2020  24.9  31.8  27.5    88.0   2.5  4.0     7    230       2   \n",
            "4  05-01-2020  25.2  29.7  26.3    91.0   6.5  4.5     4    240       2   \n",
            "5  06-01-2020  24.2  32.2  27.6    84.0  12.5  0.5     4    240       2   \n",
            "6  07-01-2020  25.0  29.6  26.8    89.0  23.8  6.3     4    290       1   \n",
            "7  08-01-2020   NaN  29.4  27.3    85.0  13.7  NaN     4    180       1   \n",
            "8  10-01-2020  24.8  31.4  26.7    85.0  24.0  2.5     4    210       1   \n",
            "9  11-01-2020  24.0  31.5  27.3    84.0  17.1  1.4     5    240       2   \n",
            "\n",
            "  DDD_CAR  \n",
            "0      NW  \n",
            "1      C   \n",
            "2      C   \n",
            "3      C   \n",
            "4      C   \n",
            "5      C   \n",
            "6      C   \n",
            "7      C   \n",
            "8      C   \n",
            "9      C   \n"
          ]
        },
        {
          "name": "stderr",
          "output_type": "stream",
          "text": [
            "C:\\Users\\HP\\AppData\\Local\\Temp\\ipykernel_5936\\1533749833.py:3: FutureWarning: Downcasting behavior in `replace` is deprecated and will be removed in a future version. To retain the old behavior, explicitly call `result.infer_objects(copy=False)`. To opt-in to the future behavior, set `pd.set_option('future.no_silent_downcasting', True)`\n",
            "  df = df.replace(['8888', '9999', '-', 8888, 9999], np.nan)\n"
          ]
        }
      ],
      "source": [
        "# --- Pembersihan Data Awal ---\n",
        "# Mengganti nilai '8888', '9999', dan '-' dengan NaN (Not a Number)\n",
        "df = df.replace(['8888', '9999', '-', 8888, 9999], np.nan)\n",
        "df = df.infer_objects()\n",
        "\n",
        "\n",
        "# Mendefinisikan kolom-kolom yang seharusnya numerik\n",
        "numeric_columns = ['TN', 'TX', 'TAVG', 'RH_AVG', 'RR', 'SS']\n",
        "# Mengonversi kolom-kolom numerik yang mungkin bertipe object menjadi float\n",
        "# 'errors=\"coerce\"' mengubah nilai yang tidak bisa dikonversi menjadi NaN\n",
        "for col in numeric_columns:\n",
        "    df[col] = pd.to_numeric(df[col], errors='coerce')\n",
        "\n",
        "print(\"\\n--- Informasi Setelah Penggantian NaN & Konversi Tipe ---\")\n",
        "df[numeric_columns].info()\n",
        "print(\"\\n--- 10 Baris Pertama Setelah Penggantian NaN & Konversi Tipe ---\")\n",
        "print(df.head(10))"
      ]
    },
    {
      "cell_type": "code",
      "execution_count": 42,
      "id": "e319c760",
      "metadata": {
        "colab": {
          "base_uri": "https://localhost:8080/"
        },
        "id": "e319c760",
        "outputId": "164634b4-c857-4806-bffb-0b74a7ab0ce6"
      },
      "outputs": [
        {
          "name": "stdout",
          "output_type": "stream",
          "text": [
            "\n",
            "Data berhasil diurutkan berdasarkan kolom 'TANGGAL'.\n",
            "\n",
            "--- Informasi Setelah Pengurutan Berdasarkan Waktu ---\n",
            "     TANGGAL    TN    TX  TAVG  RH_AVG    RR   SS  FF_X  DDD_X  FF_AVG DDD_CAR\n",
            "0 2020-01-01  25.0  31.2  25.4    91.0  19.9  3.2    10    220       2      NW\n",
            "1 2020-01-02  24.2  32.0  27.5    85.0  14.8  1.0     4    240       1      C \n",
            "2 2020-01-03  25.1  32.0  27.5    86.0   2.1  3.5     8    250       2      C \n",
            "3 2020-01-04  24.9  31.8  27.5    88.0   2.5  4.0     7    230       2      C \n",
            "4 2020-01-05  25.2  29.7  26.3    91.0   6.5  4.5     4    240       2      C \n"
          ]
        }
      ],
      "source": [
        "# --- Pengurutan Data Berdasarkan Waktu ---\n",
        "# Mengubah 'Tanggal' menjadi 'TANGGAL' sesuai dengan output df.info()\n",
        "if 'TANGGAL' in df.columns:\n",
        "    # Menentukan format tanggal secara eksplisit sebagai DD-MM-YYYY\n",
        "    df['TANGGAL'] = pd.to_datetime(df['TANGGAL'], format='%d-%m-%Y')\n",
        "    df = df.sort_values(by='TANGGAL').reset_index(drop=True)\n",
        "    print(\"\\nData berhasil diurutkan berdasarkan kolom 'TANGGAL'.\")\n",
        "else:\n",
        "    print(\"\\nKolom 'TANGGAL' tidak ditemukan. Mengasumsikan data sudah terurut waktu.\")\n",
        "\n",
        "print(\"\\n--- Informasi Setelah Pengurutan Berdasarkan Waktu ---\")\n",
        "print(df.head())"
      ]
    },
    {
      "cell_type": "code",
      "execution_count": 43,
      "id": "78c9d39b",
      "metadata": {
        "colab": {
          "base_uri": "https://localhost:8080/"
        },
        "id": "78c9d39b",
        "outputId": "5d8f0513-4e31-456b-bc0a-d769311d228d"
      },
      "outputs": [
        {
          "name": "stdout",
          "output_type": "stream",
          "text": [
            "\n",
            "--- Jumlah NaN Setelah Imputasi Awal Semua Kolom Numerik ---\n",
            "TANGGAL    0\n",
            "TN         0\n",
            "TX         0\n",
            "TAVG       0\n",
            "RH_AVG     0\n",
            "RR         0\n",
            "SS         0\n",
            "FF_X       0\n",
            "DDD_X      0\n",
            "FF_AVG     0\n",
            "DDD_CAR    0\n",
            "dtype: int64\n"
          ]
        }
      ],
      "source": [
        "# --- Imputasi Missing Values untuk Semua Kolom Numerik ---\n",
        "columns_to_impute = df.select_dtypes(include=np.number).columns.tolist()\n",
        "# Menghapus 'TANGGAL' dari daftar jika terdeteksi sebagai numerik setelah konversi\n",
        "if 'TANGGAL' in columns_to_impute:\n",
        "    columns_to_impute.remove('TANGGAL')\n",
        "\n",
        "imputer = SimpleImputer(strategy='median')\n",
        "df[columns_to_impute] = imputer.fit_transform(df[columns_to_impute])\n",
        "\n",
        "print(\"\\n--- Jumlah NaN Setelah Imputasi Awal Semua Kolom Numerik ---\")\n",
        "print(df.isna().sum())"
      ]
    },
    {
      "cell_type": "code",
      "execution_count": 44,
      "id": "c76fbf50",
      "metadata": {
        "colab": {
          "base_uri": "https://localhost:8080/"
        },
        "id": "c76fbf50",
        "outputId": "550ac379-4ab0-4ba4-98e9-0bb561224cd2"
      },
      "outputs": [
        {
          "name": "stdout",
          "output_type": "stream",
          "text": [
            "\n",
            "--- 10 Baris Pertama Setelah Pembuatan Fitur Lag ---\n",
            "     TANGGAL    TN    TX  TAVG  RH_AVG    RR    SS  FF_X  DDD_X  FF_AVG  \\\n",
            "0 2020-01-01  25.0  31.2  25.4    91.0  19.9  3.20  10.0  220.0     2.0   \n",
            "1 2020-01-02  24.2  32.0  27.5    85.0  14.8  1.00   4.0  240.0     1.0   \n",
            "2 2020-01-03  25.1  32.0  27.5    86.0   2.1  3.50   8.0  250.0     2.0   \n",
            "3 2020-01-04  24.9  31.8  27.5    88.0   2.5  4.00   7.0  230.0     2.0   \n",
            "4 2020-01-05  25.2  29.7  26.3    91.0   6.5  4.50   4.0  240.0     2.0   \n",
            "5 2020-01-06  24.2  32.2  27.6    84.0  12.5  0.50   4.0  240.0     2.0   \n",
            "6 2020-01-07  25.0  29.6  26.8    89.0  23.8  6.30   4.0  290.0     1.0   \n",
            "7 2020-01-08  25.0  29.4  27.3    85.0  13.7  6.85   4.0  180.0     1.0   \n",
            "8 2020-01-10  24.8  31.4  26.7    85.0  24.0  2.50   4.0  210.0     1.0   \n",
            "9 2020-01-11  24.0  31.5  27.3    84.0  17.1  1.40   5.0  240.0     2.0   \n",
            "\n",
            "  DDD_CAR  RR_lag1  TAVG_lag1  RH_AVG_lag1  SS_lag1  TX_lag1  TN_lag1  \\\n",
            "0      NW      NaN        NaN          NaN      NaN      NaN      NaN   \n",
            "1      C      19.9       25.4         91.0     3.20     31.2     25.0   \n",
            "2      C      14.8       27.5         85.0     1.00     32.0     24.2   \n",
            "3      C       2.1       27.5         86.0     3.50     32.0     25.1   \n",
            "4      C       2.5       27.5         88.0     4.00     31.8     24.9   \n",
            "5      C       6.5       26.3         91.0     4.50     29.7     25.2   \n",
            "6      C      12.5       27.6         84.0     0.50     32.2     24.2   \n",
            "7      C      23.8       26.8         89.0     6.30     29.6     25.0   \n",
            "8      C      13.7       27.3         85.0     6.85     29.4     25.0   \n",
            "9      C      24.0       26.7         85.0     2.50     31.4     24.8   \n",
            "\n",
            "   RR_rolling_mean_3d_lag1  \n",
            "0                      NaN  \n",
            "1                19.900000  \n",
            "2                17.350000  \n",
            "3                12.266667  \n",
            "4                 6.466667  \n",
            "5                 3.700000  \n",
            "6                 7.166667  \n",
            "7                14.266667  \n",
            "8                16.666667  \n",
            "9                20.500000  \n",
            "\n",
            "--- Jumlah NaN Setelah Pembuatan Fitur Lag ---\n",
            "TANGGAL                    0\n",
            "TN                         0\n",
            "TX                         0\n",
            "TAVG                       0\n",
            "RH_AVG                     0\n",
            "RR                         0\n",
            "SS                         0\n",
            "FF_X                       0\n",
            "DDD_X                      0\n",
            "FF_AVG                     0\n",
            "DDD_CAR                    0\n",
            "RR_lag1                    1\n",
            "TAVG_lag1                  1\n",
            "RH_AVG_lag1                1\n",
            "SS_lag1                    1\n",
            "TX_lag1                    1\n",
            "TN_lag1                    1\n",
            "RR_rolling_mean_3d_lag1    1\n",
            "dtype: int64\n"
          ]
        }
      ],
      "source": [
        "\n",
        "# --- Pembuatan Fitur Lag ---\n",
        "# Fitur lag : nilai dari variabel yang sama dari periode waktu sebelumnya.\n",
        "# shift(1) : mengambil nilai dari satu periode waktu sebelumnya (misalnya, hari kemarin)\n",
        "df['RR_lag1'] = df['RR'].shift(1)\n",
        "df['TAVG_lag1'] = df['TAVG'].shift(1)\n",
        "df['RH_AVG_lag1'] = df['RH_AVG'].shift(1)\n",
        "df['SS_lag1'] = df['SS'].shift(1)\n",
        "df['TX_lag1'] = df['TX'].shift(1)\n",
        "df['TN_lag1'] = df['TN'].shift(1)\n",
        "\n",
        "df['RR_rolling_mean_3d_lag1'] = df['RR'].rolling(window=3, min_periods=1).mean().shift(1)\n",
        "\n",
        "print(\"\\n--- 10 Baris Pertama Setelah Pembuatan Fitur Lag ---\")\n",
        "print(df.head(10))\n",
        "print(\"\\n--- Jumlah NaN Setelah Pembuatan Fitur Lag ---\")\n",
        "print(df.isna().sum())\n"
      ]
    },
    {
      "cell_type": "code",
      "execution_count": 45,
      "id": "e2f69671",
      "metadata": {
        "colab": {
          "base_uri": "https://localhost:8080/"
        },
        "id": "e2f69671",
        "outputId": "47b93174-4a72-499a-86a0-4184db387cb7"
      },
      "outputs": [
        {
          "name": "stdout",
          "output_type": "stream",
          "text": [
            "\n",
            "--- Jumlah NaN Setelah Menghapus Baris dengan NaN Fitur Lag ---\n",
            "TANGGAL                    0\n",
            "TN                         0\n",
            "TX                         0\n",
            "TAVG                       0\n",
            "RH_AVG                     0\n",
            "RR                         0\n",
            "SS                         0\n",
            "FF_X                       0\n",
            "DDD_X                      0\n",
            "FF_AVG                     0\n",
            "DDD_CAR                    0\n",
            "RR_lag1                    0\n",
            "TAVG_lag1                  0\n",
            "RH_AVG_lag1                0\n",
            "SS_lag1                    0\n",
            "TX_lag1                    0\n",
            "TN_lag1                    0\n",
            "RR_rolling_mean_3d_lag1    0\n",
            "dtype: int64\n",
            "\n",
            "--- Informasi Data Setelah Menghapus Baris dengan NaN Fitur Lag ---\n",
            "<class 'pandas.core.frame.DataFrame'>\n",
            "Index: 1813 entries, 1 to 1813\n",
            "Data columns (total 18 columns):\n",
            " #   Column                   Non-Null Count  Dtype         \n",
            "---  ------                   --------------  -----         \n",
            " 0   TANGGAL                  1813 non-null   datetime64[ns]\n",
            " 1   TN                       1813 non-null   float64       \n",
            " 2   TX                       1813 non-null   float64       \n",
            " 3   TAVG                     1813 non-null   float64       \n",
            " 4   RH_AVG                   1813 non-null   float64       \n",
            " 5   RR                       1813 non-null   float64       \n",
            " 6   SS                       1813 non-null   float64       \n",
            " 7   FF_X                     1813 non-null   float64       \n",
            " 8   DDD_X                    1813 non-null   float64       \n",
            " 9   FF_AVG                   1813 non-null   float64       \n",
            " 10  DDD_CAR                  1813 non-null   object        \n",
            " 11  RR_lag1                  1813 non-null   float64       \n",
            " 12  TAVG_lag1                1813 non-null   float64       \n",
            " 13  RH_AVG_lag1              1813 non-null   float64       \n",
            " 14  SS_lag1                  1813 non-null   float64       \n",
            " 15  TX_lag1                  1813 non-null   float64       \n",
            " 16  TN_lag1                  1813 non-null   float64       \n",
            " 17  RR_rolling_mean_3d_lag1  1813 non-null   float64       \n",
            "dtypes: datetime64[ns](1), float64(16), object(1)\n",
            "memory usage: 269.1+ KB\n",
            "\n",
            "--- 10 Baris Pertama Data Setelah Pembersihan Total & Fitur Lag ---\n",
            "      TANGGAL    TN    TX  TAVG  RH_AVG    RR    SS  FF_X  DDD_X  FF_AVG  \\\n",
            "1  2020-01-02  24.2  32.0  27.5    85.0  14.8  1.00   4.0  240.0     1.0   \n",
            "2  2020-01-03  25.1  32.0  27.5    86.0   2.1  3.50   8.0  250.0     2.0   \n",
            "3  2020-01-04  24.9  31.8  27.5    88.0   2.5  4.00   7.0  230.0     2.0   \n",
            "4  2020-01-05  25.2  29.7  26.3    91.0   6.5  4.50   4.0  240.0     2.0   \n",
            "5  2020-01-06  24.2  32.2  27.6    84.0  12.5  0.50   4.0  240.0     2.0   \n",
            "6  2020-01-07  25.0  29.6  26.8    89.0  23.8  6.30   4.0  290.0     1.0   \n",
            "7  2020-01-08  25.0  29.4  27.3    85.0  13.7  6.85   4.0  180.0     1.0   \n",
            "8  2020-01-10  24.8  31.4  26.7    85.0  24.0  2.50   4.0  210.0     1.0   \n",
            "9  2020-01-11  24.0  31.5  27.3    84.0  17.1  1.40   5.0  240.0     2.0   \n",
            "10 2020-01-12  24.2  32.2  27.9    82.0   3.0  1.00   4.0  250.0     2.0   \n",
            "\n",
            "   DDD_CAR  RR_lag1  TAVG_lag1  RH_AVG_lag1  SS_lag1  TX_lag1  TN_lag1  \\\n",
            "1       C      19.9       25.4         91.0     3.20     31.2     25.0   \n",
            "2       C      14.8       27.5         85.0     1.00     32.0     24.2   \n",
            "3       C       2.1       27.5         86.0     3.50     32.0     25.1   \n",
            "4       C       2.5       27.5         88.0     4.00     31.8     24.9   \n",
            "5       C       6.5       26.3         91.0     4.50     29.7     25.2   \n",
            "6       C      12.5       27.6         84.0     0.50     32.2     24.2   \n",
            "7       C      23.8       26.8         89.0     6.30     29.6     25.0   \n",
            "8       C      13.7       27.3         85.0     6.85     29.4     25.0   \n",
            "9       C      24.0       26.7         85.0     2.50     31.4     24.8   \n",
            "10      SW     17.1       27.3         84.0     1.40     31.5     24.0   \n",
            "\n",
            "    RR_rolling_mean_3d_lag1  \n",
            "1                 19.900000  \n",
            "2                 17.350000  \n",
            "3                 12.266667  \n",
            "4                  6.466667  \n",
            "5                  3.700000  \n",
            "6                  7.166667  \n",
            "7                 14.266667  \n",
            "8                 16.666667  \n",
            "9                 20.500000  \n",
            "10                18.266667  \n"
          ]
        }
      ],
      "source": [
        "# --- Penanganan NaN Setelah Fitur Lag ---\n",
        "df_preprocessed_full = df.copy()\n",
        "df.dropna(inplace=True)\n",
        "\n",
        "print(\"\\n--- Jumlah NaN Setelah Menghapus Baris dengan NaN Fitur Lag ---\")\n",
        "print(df.isna().sum())\n",
        "print(\"\\n--- Informasi Data Setelah Menghapus Baris dengan NaN Fitur Lag ---\")\n",
        "df.info()\n",
        "print(\"\\n--- 10 Baris Pertama Data Setelah Pembersihan Total & Fitur Lag ---\")\n",
        "print(df.head(10))"
      ]
    },
    {
      "cell_type": "code",
      "execution_count": 46,
      "id": "f1c19d3c",
      "metadata": {
        "colab": {
          "base_uri": "https://localhost:8080/"
        },
        "id": "f1c19d3c",
        "outputId": "27caecd8-cba9-43ab-eb85-d1801eaf45b3"
      },
      "outputs": [
        {
          "name": "stdout",
          "output_type": "stream",
          "text": [
            "\n",
            "--- Distribusi Kategori Curah Hujan (RR_KAT) ---\n",
            "RR_KAT\n",
            "Hujan Ringan          1245\n",
            "No Rain                300\n",
            "Hujan Sedang           177\n",
            "Hujan Lebat             72\n",
            "Hujan Sangat Lebat      19\n",
            "Name: count, dtype: int64\n"
          ]
        }
      ],
      "source": [
        "# --- 7. Feature Engineering: Kategorisasi Curah Hujan ---\n",
        "# Mengubah nilai numerik curah hujan (RR) menjadi kategori\n",
        "\n",
        "def rr_categorization(rr):\n",
        "    if rr == 0:\n",
        "        return 'No Rain'\n",
        "    elif 0 < rr <= 20:\n",
        "        return 'Hujan Ringan'\n",
        "    elif 20 < rr <= 50:\n",
        "        return 'Hujan Sedang'\n",
        "    elif 50 < rr <= 100:\n",
        "        return 'Hujan Lebat'\n",
        "    else:\n",
        "        return 'Hujan Sangat Lebat'\n",
        "\n",
        "df['RR_KAT'] = df['RR'].apply(rr_categorization)\n",
        "\n",
        "\n",
        "print(\"\\n--- Distribusi Kategori Curah Hujan (RR_KAT) ---\")\n",
        "print(df['RR_KAT'].value_counts())"
      ]
    },
    {
      "cell_type": "code",
      "execution_count": 47,
      "id": "13bdf843",
      "metadata": {
        "colab": {
          "base_uri": "https://localhost:8080/"
        },
        "id": "13bdf843",
        "outputId": "a454e131-9649-4289-e0d7-27926ab4b46f"
      },
      "outputs": [
        {
          "name": "stdout",
          "output_type": "stream",
          "text": [
            "\n",
            "--- Label Encoding Mapping ---\n",
            "Hujan Lebat → 0\n",
            "Hujan Ringan → 1\n",
            "Hujan Sangat Lebat → 2\n",
            "Hujan Sedang → 3\n",
            "No Rain → 4\n"
          ]
        }
      ],
      "source": [
        "# --- 8. Label Encoding untuk Target ---\n",
        "# Mengubah kategori teks menjadi representasi numerik\n",
        "le = LabelEncoder()\n",
        "df['RR_KAT_ENC'] = le.fit_transform(df['RR_KAT'])\n",
        "\n",
        "# Membuat mapping dari label asli ke angka untuk interpretasi hasil\n",
        "label_mapping = dict(zip(le.classes_, le.transform(le.classes_)))\n",
        "print(\"\\n--- Label Encoding Mapping ---\")\n",
        "for original, encoded in label_mapping.items():\n",
        "    print(f\"{original} → {encoded}\")"
      ]
    },
    {
      "cell_type": "code",
      "execution_count": 48,
      "id": "0fa20e86",
      "metadata": {
        "colab": {
          "base_uri": "https://localhost:8080/"
        },
        "id": "0fa20e86",
        "outputId": "58e1ca64-1534-4232-a2e6-384eebade67e"
      },
      "outputs": [
        {
          "name": "stdout",
          "output_type": "stream",
          "text": [
            "\n",
            "--- Head X (Fitur) ---\n",
            "     TN    TX  TAVG  RH_AVG   SS  RR_lag1  TAVG_lag1  RH_AVG_lag1  SS_lag1  \\\n",
            "1  24.2  32.0  27.5    85.0  1.0     19.9       25.4         91.0      3.2   \n",
            "2  25.1  32.0  27.5    86.0  3.5     14.8       27.5         85.0      1.0   \n",
            "3  24.9  31.8  27.5    88.0  4.0      2.1       27.5         86.0      3.5   \n",
            "4  25.2  29.7  26.3    91.0  4.5      2.5       27.5         88.0      4.0   \n",
            "5  24.2  32.2  27.6    84.0  0.5      6.5       26.3         91.0      4.5   \n",
            "\n",
            "   TX_lag1  TN_lag1  RR_rolling_mean_3d_lag1  \n",
            "1     31.2     25.0                19.900000  \n",
            "2     32.0     24.2                17.350000  \n",
            "3     32.0     25.1                12.266667  \n",
            "4     31.8     24.9                 6.466667  \n",
            "5     29.7     25.2                 3.700000  \n",
            "\n",
            "--- Head y (Target) ---\n",
            "1    1\n",
            "2    1\n",
            "3    1\n",
            "4    1\n",
            "5    1\n",
            "Name: RR_KAT_ENC, dtype: int64\n"
          ]
        }
      ],
      "source": [
        "# --- 9. Pemisahan Fitur (X) dan Target (y) ---\n",
        "# Mendefinisikan semua kolom yang akan digunakan sebagai fitur (input model)\n",
        "feature_columns = [\n",
        "    'TN', 'TX', 'TAVG', 'RH_AVG', 'SS',\n",
        "    'RR_lag1', 'TAVG_lag1', 'RH_AVG_lag1', 'SS_lag1', 'TX_lag1', 'TN_lag1',\n",
        "    'RR_rolling_mean_3d_lag1'\n",
        "]\n",
        "\n",
        "X = df[feature_columns] \n",
        "y = df['RR_KAT_ENC']    \n",
        "\n",
        "print(\"\\n--- Head X (Fitur) ---\")\n",
        "print(X.head())\n",
        "print(\"\\n--- Head y (Target) ---\")\n",
        "print(y.head())"
      ]
    },
    {
      "cell_type": "code",
      "execution_count": 49,
      "id": "9850f464",
      "metadata": {
        "colab": {
          "base_uri": "https://localhost:8080/"
        },
        "id": "9850f464",
        "outputId": "69d2ce46-836c-42f3-d641-f6710c7fa6c6"
      },
      "outputs": [
        {
          "name": "stdout",
          "output_type": "stream",
          "text": [
            "\n",
            "--- Head X Setelah Standardisasi ---\n",
            "         TN        TX      TAVG    RH_AVG        SS   RR_lag1  TAVG_lag1  \\\n",
            "1 -0.808190  0.802128  0.076228  0.486611 -1.759318  0.465337  -2.021868   \n",
            "2  0.177477  0.802128  0.076228  0.771843 -0.906262  0.222757   0.077300   \n",
            "3 -0.041560  0.656199  0.076228  1.342309 -0.735651 -0.381316   0.077300   \n",
            "4  0.286995 -0.876058 -1.124650  2.198007 -0.565040 -0.362290   0.077300   \n",
            "5 -0.808190  0.948057  0.176301  0.201378 -1.929929 -0.172031  -1.122225   \n",
            "\n",
            "   RH_AVG_lag1   SS_lag1   TX_lag1   TN_lag1  RR_rolling_mean_3d_lag1  \n",
            "1     2.193892 -1.007905  0.218769  0.067660                 0.734168  \n",
            "2     0.484353 -1.758391  0.802582 -0.808543                 0.542796  \n",
            "3     0.769277 -0.905566  0.802582  0.177186                 0.161302  \n",
            "4     1.339123 -0.735001  0.656629 -0.041865                -0.273976  \n",
            "5     2.193892 -0.564436 -0.875880  0.286711                -0.481609  \n"
          ]
        }
      ],
      "source": [
        "# --- 10. Standardisasi Fitur ---\n",
        "# Menskalakan fitur sehingga memiliki rata-rata 0 dan standar deviasi 1.\n",
        "scaler = StandardScaler()\n",
        "X_scaled = scaler.fit_transform(X)\n",
        "# Mengonversi kembali ke DataFrame untuk memudahkan analisis lebih lanjut\n",
        "X_scaled_df = pd.DataFrame(X_scaled, columns=feature_columns, index=X.index)\n",
        "\n",
        "print(\"\\n--- Head X Setelah Standardisasi ---\")\n",
        "print(X_scaled_df.head())\n"
      ]
    },
    {
      "cell_type": "code",
      "execution_count": 50,
      "id": "e97b37f6",
      "metadata": {
        "colab": {
          "base_uri": "https://localhost:8080/",
          "height": 1000
        },
        "id": "e97b37f6",
        "outputId": "91cdc43b-8e88-419f-e552-130022367fac"
      },
      "outputs": [
        {
          "name": "stdout",
          "output_type": "stream",
          "text": [
            "\n",
            "--- Distribusi Target Sebelum SMOTE ---\n",
            "Counter({1: 1245, 4: 300, 3: 177, 0: 72, 2: 19})\n"
          ]
        },
        {
          "data": {
            "image/png": "[encoded data removed]",
            "text/plain": [
              "<Figure size 800x500 with 1 Axes>"
            ]
          },
          "metadata": {},
          "output_type": "display_data"
        },
        {
          "name": "stdout",
          "output_type": "stream",
          "text": [
            "\n",
            "--- Distribusi Target Setelah SMOTE ---\n",
            "Counter({1: 1245, 3: 1245, 4: 1245, 0: 1245, 2: 1245})\n"
          ]
        },
        {
          "data": {
            "image/png": "[encoded data removed]",
            "text/plain": [
              "<Figure size 800x500 with 1 Axes>"
            ]
          },
          "metadata": {},
          "output_type": "display_data"
        }
      ],
      "source": [
        "# --- Penanganan Imbalance Data (SMOTE) ---\n",
        "\n",
        "print(\"\\n--- Distribusi Target Sebelum SMOTE ---\")\n",
        "print(Counter(y))\n",
        "# Distribusi Target Sebelum SMOTE\n",
        "plt.figure(figsize=(8, 5))\n",
        "sns.countplot(x=y, hue=y, palette='viridis', legend=False)\n",
        "plt.title(\"Distribusi Label Sebelum SMOTE\")\n",
        "plt.xlabel(\"RR_KAT_ENC\")\n",
        "plt.ylabel(\"Count\")\n",
        "plt.show()\n",
        "\n",
        "smote = SMOTE(random_state=42)\n",
        "X_bal, y_bal = smote.fit_resample(X_scaled, y)\n",
        "\n",
        "print(\"\\n--- Distribusi Target Setelah SMOTE ---\")\n",
        "print(Counter(y_bal))\n",
        "\n",
        "plt.figure(figsize=(8, 5))\n",
        "sns.countplot(x=y_bal, hue=y_bal, palette='viridis', legend=False)\n",
        "plt.title(\"Distribusi Label Setelah SMOTE\")\n",
        "plt.xlabel(\"RR_KAT_ENC\")\n",
        "plt.ylabel(\"Count\")\n",
        "plt.show()\n",
        "\n"
      ]
    },
    {
      "cell_type": "code",
      "execution_count": 51,
      "id": "acc20c59",
      "metadata": {
        "colab": {
          "base_uri": "https://localhost:8080/"
        },
        "id": "acc20c59",
        "outputId": "ef41f2ff-3d51-436d-b643-017a067878e8"
      },
      "outputs": [
        {
          "name": "stdout",
          "output_type": "stream",
          "text": [
            "\n",
            "--- Distribusi Data Setelah Split ---\n",
            "Distribusi Train:\n",
            "Counter({4: 996, 3: 996, 2: 996, 1: 996, 0: 996})\n",
            "\n",
            "Distribusi Test:\n",
            "Counter({4: 249, 3: 249, 1: 249, 2: 249, 0: 249})\n",
            "\n",
            "Preprocessing Lengkap! X_train, X_test, y_train, y_test siap untuk pelatihan model.\n"
          ]
        }
      ],
      "source": [
        "\n",
        "# ---Split Data---\n",
        "X_train, X_test, y_train, y_test = train_test_split(\n",
        "    X_bal, y_bal, test_size=0.2, random_state=42, stratify=y_bal\n",
        ")\n",
        "\n",
        "print(\"\\n--- Distribusi Data Setelah Split ---\")\n",
        "print(\"Distribusi Train:\")\n",
        "print(Counter(y_train))\n",
        "print(\"\\nDistribusi Test:\")\n",
        "print(Counter(y_test))\n",
        "\n",
        "print(\"\\nPreprocessing Lengkap! X_train, X_test, y_train, y_test siap untuk pelatihan model.\")"
      ]
    },
    {
      "cell_type": "code",
      "execution_count": 52,
      "id": "2c70ed15",
      "metadata": {
        "colab": {
          "base_uri": "https://localhost:8080/"
        },
        "id": "2c70ed15",
        "outputId": "37e1dc51-ba4d-4aaa-daff-dc011c76316d"
      },
      "outputs": [
        {
          "name": "stdout",
          "output_type": "stream",
          "text": [
            "\n",
            "--- Memulai Pelatihan Model ---\n",
            "\n",
            "=== Naive Bayes ===\n",
            "Akurasi: 0.4530120481927711\n",
            "                    precision    recall  f1-score   support\n",
            "\n",
            "       Hujan Lebat       0.33      0.25      0.29       249\n",
            "      Hujan Ringan       0.48      0.12      0.19       249\n",
            "Hujan Sangat Lebat       0.54      0.60      0.57       249\n",
            "      Hujan Sedang       0.41      0.50      0.45       249\n",
            "           No Rain       0.48      0.79      0.59       249\n",
            "\n",
            "          accuracy                           0.45      1245\n",
            "         macro avg       0.45      0.45      0.42      1245\n",
            "      weighted avg       0.45      0.45      0.42      1245\n",
            "\n",
            "Confusion Matrix:\n",
            " [[ 63   4  63  90  29]\n",
            " [ 15  30  24  52 128]\n",
            " [ 63   0 150  15  21]\n",
            " [ 47  12  27 124  39]\n",
            " [  5  17  12  18 197]]\n",
            "\n",
            "=== K-Nearest Neighbors ===\n",
            "Akurasi: 0.8289156626506025\n",
            "                    precision    recall  f1-score   support\n",
            "\n",
            "       Hujan Lebat       0.89      1.00      0.94       249\n",
            "      Hujan Ringan       0.80      0.28      0.42       249\n",
            "Hujan Sangat Lebat       0.94      1.00      0.97       249\n",
            "      Hujan Sedang       0.81      0.94      0.87       249\n",
            "           No Rain       0.71      0.92      0.80       249\n",
            "\n",
            "          accuracy                           0.83      1245\n",
            "         macro avg       0.83      0.83      0.80      1245\n",
            "      weighted avg       0.83      0.83      0.80      1245\n",
            "\n",
            "Confusion Matrix:\n",
            " [[248   1   0   0   0]\n",
            " [ 20  70  13  52  94]\n",
            " [  0   0 249   0   0]\n",
            " [  6   4   4 235   0]\n",
            " [  5  12   0   2 230]]\n",
            "\n",
            "=== Random Forest ===\n",
            "Akurasi: 0.9124497991967871\n",
            "                    precision    recall  f1-score   support\n",
            "\n",
            "       Hujan Lebat       0.96      0.98      0.97       249\n",
            "      Hujan Ringan       0.86      0.73      0.79       249\n",
            "Hujan Sangat Lebat       0.97      1.00      0.98       249\n",
            "      Hujan Sedang       0.88      0.92      0.90       249\n",
            "           No Rain       0.89      0.92      0.91       249\n",
            "\n",
            "          accuracy                           0.91      1245\n",
            "         macro avg       0.91      0.91      0.91      1245\n",
            "      weighted avg       0.91      0.91      0.91      1245\n",
            "\n",
            "Confusion Matrix:\n",
            " [[245   3   0   1   0]\n",
            " [  6 182   6  28  27]\n",
            " [  0   0 249   0   0]\n",
            " [  5   9   3 230   2]\n",
            " [  0  18   0   1 230]]\n"
          ]
        }
      ],
      "source": [
        "# --- Pelatihan Model ---\n",
        "print(\"\\n--- Memulai Pelatihan Model ---\")\n",
        "\n",
        "# Naive Bayes\n",
        "nb_model = GaussianNB()\n",
        "nb_model.fit(X_train, y_train)\n",
        "nb_pred = nb_model.predict(X_test)\n",
        "print(\"\\n=== Naive Bayes ===\")\n",
        "print(\"Akurasi:\", accuracy_score(y_test, nb_pred))\n",
        "print(classification_report(y_test, nb_pred, target_names=le.classes_))\n",
        "print(\"Confusion Matrix:\\n\", confusion_matrix(y_test, nb_pred))\n",
        "\n",
        "# KNN\n",
        "knn_model = KNeighborsClassifier(n_neighbors=7)\n",
        "knn_model.fit(X_train, y_train)\n",
        "knn_pred = knn_model.predict(X_test)\n",
        "print(\"\\n=== K-Nearest Neighbors ===\")\n",
        "print(\"Akurasi:\", accuracy_score(y_test, knn_pred))\n",
        "print(classification_report(y_test, knn_pred, target_names=le.classes_))\n",
        "print(\"Confusion Matrix:\\n\", confusion_matrix(y_test, knn_pred))\n",
        "\n",
        "# Random Forest\n",
        "rf_model = RandomForestClassifier(random_state=42)\n",
        "rf_model.fit(X_train, y_train)\n",
        "rf_pred = rf_model.predict(X_test)\n",
        "print(\"\\n=== Random Forest ===\")\n",
        "print(\"Akurasi:\", accuracy_score(y_test, rf_pred))\n",
        "print(classification_report(y_test, rf_pred, target_names=le.classes_))\n",
        "print(\"Confusion Matrix:\\n\", confusion_matrix(y_test, rf_pred))"
      ]
    },
    {
      "cell_type": "code",
      "execution_count": 53,
      "id": "84999d6e",
      "metadata": {
        "colab": {
          "base_uri": "https://localhost:8080/",
          "height": 287
        },
        "id": "84999d6e",
        "outputId": "41d8ba43-2d15-4b75-a8b5-cf16fefddba1"
      },
      "outputs": [
        {
          "data": {
            "image/png": "[encoded data removed]",
            "text/plain": [
              "<Figure size 1800x500 with 6 Axes>"
            ]
          },
          "metadata": {},
          "output_type": "display_data"
        }
      ],
      "source": [
        "from sklearn.metrics import ConfusionMatrixDisplay\n",
        "\n",
        "# Visualisasi Confusion Matrix\n",
        "fig, axes = plt.subplots(1, 3, figsize=(18, 5))\n",
        "\n",
        "ConfusionMatrixDisplay.from_estimator(nb_model, X_test, y_test, display_labels=le.classes_, cmap='Blues', ax=axes[0])\n",
        "axes[0].set_title(\"Naive Bayes\")\n",
        "\n",
        "ConfusionMatrixDisplay.from_estimator(knn_model, X_test, y_test, display_labels=le.classes_, cmap='Greens', ax=axes[1])\n",
        "axes[1].set_title(\"K-Nearest Neighbors\")\n",
        "\n",
        "ConfusionMatrixDisplay.from_estimator(rf_model, X_test, y_test, display_labels=le.classes_, cmap='Oranges', ax=axes[2])\n",
        "axes[2].set_title(\"Random Forest\")\n",
        "\n",
        "plt.tight_layout()\n",
        "plt.show()\n"
      ]
    },
    {
      "cell_type": "code",
      "execution_count": 54,
      "id": "273248ce",
      "metadata": {
        "colab": {
          "base_uri": "https://localhost:8080/",
          "height": 597
        },
        "id": "273248ce",
        "outputId": "b0f8311e-5762-4fd2-d2ee-bbe04f346727"
      },
      "outputs": [
        {
          "name": "stderr",
          "output_type": "stream",
          "text": [
            "C:\\Users\\HP\\AppData\\Local\\Temp\\ipykernel_5936\\2314778213.py:11: FutureWarning: \n",
            "\n",
            "Passing `palette` without assigning `hue` is deprecated and will be removed in v0.14.0. Assign the `x` variable to `hue` and set `legend=False` for the same effect.\n",
            "\n",
            "  sns.barplot(x=model_names, y=akurasi_values, palette='viridis')\n"
          ]
        },
        {
          "data": {
            "image/png": "[encoded data removed]",
            "text/plain": [
              "<Figure size 800x500 with 1 Axes>"
            ]
          },
          "metadata": {},
          "output_type": "display_data"
        }
      ],
      "source": [
        "# Akurasi masing-masing model\n",
        "akurasi_nb = accuracy_score(y_test, nb_pred)\n",
        "akurasi_knn = accuracy_score(y_test, knn_pred)\n",
        "akurasi_rf = accuracy_score(y_test, rf_pred)\n",
        "\n",
        "# Bar Chart Akurasi\n",
        "model_names = ['Naive Bayes', 'KNN', 'Random Forest']\n",
        "akurasi_values = [akurasi_nb, akurasi_knn, akurasi_rf]\n",
        "\n",
        "plt.figure(figsize=(8, 5))\n",
        "sns.barplot(x=model_names, y=akurasi_values, palette='viridis')\n",
        "plt.ylim(0, 1)\n",
        "plt.title('Perbandingan Akurasi Model')\n",
        "plt.ylabel('Akurasi')\n",
        "plt.xlabel('Model')\n",
        "for i, v in enumerate(akurasi_values):\n",
        "    plt.text(i, v + 0.02, f\"{v:.2f}\", ha='center', fontweight='bold')\n",
        "plt.show()\n"
      ]
    },
    {
      "cell_type": "code",
      "execution_count": 55,
      "id": "a736ada2",
      "metadata": {
        "colab": {
          "base_uri": "https://localhost:8080/"
        },
        "id": "a736ada2",
        "outputId": "4cc4231a-efa3-47fe-c558-09dbd7e59422"
      },
      "outputs": [
        {
          "name": "stdout",
          "output_type": "stream",
          "text": [
            "\n",
            "--- Memulai Prediksi untuk Beberapa Hari ke Depan (Semua Model) ---\n",
            "\n",
            "--- Prediksi untuk Tanggal: 2025-01-01 ---\n",
            "  Prediksi oleh Naive Bayes: Hujan Ringan\n",
            "  Prediksi oleh K-Nearest Neighbors: No Rain\n",
            "  Prediksi oleh Random Forest: Hujan Ringan\n",
            "  Fitur Input (Asumsi): {k: round(v, 2) for k, v in current_future_features.items()}\n",
            "--------------------------------------------------\n",
            "\n",
            "--- Prediksi untuk Tanggal: 2025-01-02 ---\n",
            "  Prediksi oleh Naive Bayes: Hujan Sedang\n",
            "  Prediksi oleh K-Nearest Neighbors: No Rain\n",
            "  Prediksi oleh Random Forest: No Rain\n",
            "  Fitur Input (Asumsi): {k: round(v, 2) for k, v in current_future_features.items()}\n",
            "--------------------------------------------------\n",
            "\n",
            "--- Prediksi untuk Tanggal: 2025-01-03 ---\n",
            "  Prediksi oleh Naive Bayes: Hujan Sedang\n",
            "  Prediksi oleh K-Nearest Neighbors: No Rain\n",
            "  Prediksi oleh Random Forest: No Rain\n",
            "  Fitur Input (Asumsi): {k: round(v, 2) for k, v in current_future_features.items()}\n",
            "--------------------------------------------------\n",
            "\n",
            "--- Prediksi untuk Tanggal: 2025-01-04 ---\n",
            "  Prediksi oleh Naive Bayes: Hujan Sedang\n",
            "  Prediksi oleh K-Nearest Neighbors: No Rain\n",
            "  Prediksi oleh Random Forest: No Rain\n",
            "  Fitur Input (Asumsi): {k: round(v, 2) for k, v in current_future_features.items()}\n",
            "--------------------------------------------------\n",
            "\n",
            "--- Prediksi untuk Tanggal: 2025-01-05 ---\n",
            "  Prediksi oleh Naive Bayes: Hujan Sedang\n",
            "  Prediksi oleh K-Nearest Neighbors: No Rain\n",
            "  Prediksi oleh Random Forest: No Rain\n",
            "  Fitur Input (Asumsi): {k: round(v, 2) for k, v in current_future_features.items()}\n",
            "--------------------------------------------------\n",
            "\n",
            "Prediksi selesai.\n"
          ]
        }
      ],
      "source": [
        "\n",
        "# --- 14. Prediksi Beberapa Hari ke Depan ---\n",
        "print(\"\\n--- Memulai Prediksi untuk Beberapa Hari ke Depan (Semua Model) ---\")\n",
        "\n",
        "# Ambil data aktual terakhir dari DataFrame yang sudah di-preprocess lengkap\n",
        "last_actual_data = df_preprocessed_full.iloc[-1]\n",
        "# Menggunakan 'TANGGAL' sesuai dengan nama kolom yang benar\n",
        "last_actual_date = last_actual_data['TANGGAL']\n",
        "\n",
        "# Untuk jumlah hari yang ingin diprediksi\n",
        "n_future_days = 5\n",
        "future_dates = [last_actual_date + pd.Timedelta(days=i) for i in range(1, n_future_days + 1)]\n",
        "\n",
        "# List of models to iterate through for prediction\n",
        "models_to_predict = {\n",
        "    \"Naive Bayes\": nb_model,\n",
        "    \"K-Nearest Neighbors\": knn_model,\n",
        "    \"Random Forest\": rf_model\n",
        "}\n",
        "\n",
        "# Loop untuk memprediksi setiap hari ke depan\n",
        "for i, current_future_date in enumerate(future_dates):\n",
        "    print(f\"\\n--- Prediksi untuk Tanggal: {current_future_date.strftime('%Y-%m-%d')} ---\")\n",
        "\n",
        "    #mengasumsikan nilai fitur langsung (TN, TX, dll.)\n",
        "    # untuk hari-hari mendatang. \n",
        "    # menggunakan rata-rata dari 7 hari terakhir data aktual\n",
        "    avg_last_7_days = df_preprocessed_full[numeric_columns].iloc[-7:].mean()\n",
        "\n",
        "    # Buat baris data untuk hari yang akan diprediksi\n",
        "    current_future_features = {\n",
        "        'TN': avg_last_7_days['TN'],\n",
        "        'TX': avg_last_7_days['TX'],\n",
        "        'TAVG': avg_last_7_days['TAVG'],\n",
        "        'RH_AVG': avg_last_7_days['RH_AVG'],\n",
        "        'RR': avg_last_7_days['RR'], # RR ini hanya untuk perhitungan lag (bukan target jadi gapapa dimasukin)\n",
        "        'SS': avg_last_7_days['SS']\n",
        "    }\n",
        "\n",
        "    # Hitung fitur lag untuk hari ini berdasarkan data aktual terakhir\n",
        "    # atau data yang sudah diprediksi sebelumnya \n",
        "    if i == 0: # Hari pertama prediksi\n",
        "        current_future_features['RR_lag1'] = last_actual_data['RR']\n",
        "        current_future_features['TAVG_lag1'] = last_actual_data['TAVG']\n",
        "        current_future_features['RH_AVG_lag1'] = last_actual_data['RH_AVG']\n",
        "        current_future_features['SS_lag1'] = last_actual_data['SS']\n",
        "        current_future_features['TX_lag1'] = last_actual_data['TX']\n",
        "        current_future_features['TN_lag1'] = last_actual_data['TN']\n",
        "\n",
        "        # Untuk RR_rolling_mean_3d_lag1, menggunakan 3 data terakhir\n",
        "        # Ambil 2 data sebelum last_actual_data + last_actual_data\n",
        "        recent_rr_for_rolling = df_preprocessed_full['RR'].iloc[-2:].tolist() + [last_actual_data['RR']]\n",
        "        current_future_features['RR_rolling_mean_3d_lag1'] = np.mean(recent_rr_for_rolling)\n",
        "\n",
        "    else: # Hari-hari prediksi selanjutnya, lag diambil dari prediksi hari sebelumnya\n",
        "        current_future_features['RR_lag1'] = avg_last_7_days['RR']\n",
        "        current_future_features['TAVG_lag1'] = avg_last_7_days['TAVG']\n",
        "        current_future_features['RH_AVG_lag1'] = avg_last_7_days['RH_AVG']\n",
        "        current_future_features['SS_lag1'] = avg_last_7_days['SS']\n",
        "        current_future_features['TX_lag1'] = avg_last_7_days['TX']\n",
        "        current_future_features['TN_lag1'] = avg_last_7_days['TN']\n",
        "        current_future_features['RR_rolling_mean_3d_lag1'] = avg_last_7_days['RR'] # Proxy\n",
        "\n",
        "    # Buat DataFrame dari dictionary buat ngisi keys secara otomatis\n",
        "    current_future_row = pd.DataFrame([current_future_features])\n",
        "    # memilih kolom-kolom sesuai dengan feature_columns utk mastiin urutan yang benar\n",
        "    current_future_row_for_scaling = current_future_row[feature_columns]\n",
        "\n",
        "    # Skalakan data prediksi menggunakan scaler yang sama pada data training\n",
        "    scaled_future_row = scaler.transform(current_future_row_for_scaling)\n",
        "\n",
        "    # Lakukan prediksi dengan setiap model\n",
        "    for model_name, model in models_to_predict.items():\n",
        "        predicted_category_encoded = model.predict(scaled_future_row)[0]\n",
        "        predicted_category_name = le.inverse_transform([predicted_category_encoded])[0]\n",
        "        print(f\"  Prediksi oleh {model_name}: {predicted_category_name}\")\n",
        "\n",
        "    print(f\"  Fitur Input (Asumsi): {{k: round(v, 2) for k, v in current_future_features.items()}}\")\n",
        "    print(\"-\" * 50)\n",
        "\n",
        "print(\"\\nPrediksi selesai.\")"
      ]
    },
    {
      "cell_type": "code",
      "execution_count": 56,
      "id": "595f8aa7",
      "metadata": {
        "id": "595f8aa7"
      },
      "outputs": [
        {
          "data": {
            "text/plain": [
              "['../model/label_encoder.pkl']"
            ]
          },
          "execution_count": 56,
          "metadata": {},
          "output_type": "execute_result"
        }
      ],
      "source": [
        "import joblib\n",
        "\n",
        "joblib.dump(nb_model, '../model/naive_bayes_model.pkl')\n",
        "joblib.dump(knn_model, '../model/knn_model.pkl')\n",
        "joblib.dump(rf_model, '../model/random_forest_model.pkl')\n",
        "joblib.dump(scaler, '../model/scaler.pkl')\n",
        "joblib.dump(le, '../model/label_encoder.pkl')\n"
      ]
    },
    {
      "cell_type": "code",
      "execution_count": 57,
      "id": "931c6ff3",
      "metadata": {},
      "outputs": [
        {
          "name": "stdout",
          "output_type": "stream",
          "text": [
            "✅ Semua model dan data test berhasil disimpan!\n"
          ]
        }
      ],
      "source": [
        "# Simpan X_test dan y_test ke dalam file CSV\n",
        "X_test_df = pd.DataFrame(X_test, columns=feature_columns)\n",
        "X_test_df.to_csv('../data/X_test_preprocessed.csv', index=False)\n",
        "\n",
        "y_test_df = pd.DataFrame({'RR_KAT_ENC': y_test})\n",
        "y_test_df.to_csv('../data/y_test_preprocessed.csv', index=False)\n",
        "\n",
        "print(\"✅ Semua model dan data test berhasil disimpan!\")"
      ]
    }
  ],
  "metadata": {
    "colab": {
      "provenance": []
    },
    "kernelspec": {
      "display_name": "venv",
      "language": "python",
      "name": "python3"
    },
    "language_info": {
      "codemirror_mode": {
        "name": "ipython",
        "version": 3
      },
      "file_extension": ".py",
      "mimetype": "text/x-python",
      "name": "python",
      "nbconvert_exporter": "python",
      "pygments_lexer": "ipython3",
      "version": "3.10.0"
    }
  },
  "nbformat": 4,
  "nbformat_minor": 5
}
