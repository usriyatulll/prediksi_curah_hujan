{
 "cells": [
  {
   "cell_type": "code",
   "execution_count": 65,
   "id": "7941726d",
   "metadata": {},
   "outputs": [],
   "source": [
    "import pandas as pd\n",
    "import numpy as np\n",
    "import seaborn as sns\n",
    "import matplotlib.pyplot as plt\n",
    "from sklearn.preprocessing import LabelEncoder, StandardScaler\n",
    "from sklearn.impute import SimpleImputer\n",
    "from sklearn.model_selection import train_test_split, GridSearchCV, cross_val_score\n",
    "from sklearn.naive_bayes import GaussianNB\n",
    "from sklearn.neighbors import KNeighborsClassifier\n",
    "from sklearn.ensemble import RandomForestClassifier\n",
    "from sklearn.metrics import classification_report, confusion_matrix, accuracy_score, ConfusionMatrixDisplay\n",
    "from imblearn.over_sampling import SMOTE\n",
    "from collections import Counter\n",
    "import joblib\n",
    "import os\n"
   ]
  },
  {
   "cell_type": "code",
   "execution_count": 66,
   "id": "19c3fa5a",
   "metadata": {},
   "outputs": [],
   "source": [
    "#load dataset\n",
    "df = pd.read_excel('../data/Dataset_2020-2024.xlsx')\n"
   ]
  },
  {
   "cell_type": "code",
   "execution_count": 67,
   "id": "b386cec0",
   "metadata": {},
   "outputs": [
    {
     "name": "stdout",
     "output_type": "stream",
     "text": [
      "\n",
      "--- Info Awal Dataset ---\n",
      "<class 'pandas.core.frame.DataFrame'>\n",
      "RangeIndex: 1814 entries, 0 to 1813\n",
      "Data columns (total 11 columns):\n",
      " #   Column   Non-Null Count  Dtype \n",
      "---  ------   --------------  ----- \n",
      " 0   TANGGAL  1814 non-null   object\n",
      " 1   TN       1814 non-null   object\n",
      " 2   TX       1814 non-null   object\n",
      " 3   TAVG     1814 non-null   object\n",
      " 4   RH_AVG   1814 non-null   object\n",
      " 5   RR       1814 non-null   object\n",
      " 6   SS       1814 non-null   object\n",
      " 7   FF_X     1814 non-null   int64 \n",
      " 8   DDD_X    1814 non-null   int64 \n",
      " 9   FF_AVG   1814 non-null   int64 \n",
      " 10  DDD_CAR  1814 non-null   object\n",
      "dtypes: int64(3), object(8)\n",
      "memory usage: 156.0+ KB\n",
      "\n",
      "--- Statistik Deskriptif ---\n",
      "           TANGGAL    TN      TX    TAVG  RH_AVG    RR      SS         FF_X  \\\n",
      "count         1814  1814  1814.0  1814.0  1814.0  1814  1814.0  1814.000000   \n",
      "unique        1811    63    78.0    62.0    27.0   387   111.0          NaN   \n",
      "top     18-09-2021     -    32.0    27.9    84.0     -     8.0          NaN   \n",
      "freq             2   181    94.0    91.0   252.0   391   124.0          NaN   \n",
      "mean           NaN   NaN     NaN     NaN     NaN   NaN     NaN     4.311466   \n",
      "std            NaN   NaN     NaN     NaN     NaN   NaN     NaN     1.414803   \n",
      "min            NaN   NaN     NaN     NaN     NaN   NaN     NaN     2.000000   \n",
      "25%            NaN   NaN     NaN     NaN     NaN   NaN     NaN     3.000000   \n",
      "50%            NaN   NaN     NaN     NaN     NaN   NaN     NaN     4.000000   \n",
      "75%            NaN   NaN     NaN     NaN     NaN   NaN     NaN     5.000000   \n",
      "max            NaN   NaN     NaN     NaN     NaN   NaN     NaN    21.000000   \n",
      "\n",
      "              DDD_X       FF_AVG DDD_CAR  \n",
      "count   1814.000000  1814.000000    1814  \n",
      "unique          NaN          NaN      13  \n",
      "top             NaN          NaN      C   \n",
      "freq            NaN          NaN     696  \n",
      "mean     166.804851     1.847850     NaN  \n",
      "std       62.772859     0.901065     NaN  \n",
      "min        0.000000     0.000000     NaN  \n",
      "25%      120.000000     1.000000     NaN  \n",
      "50%      140.000000     2.000000     NaN  \n",
      "75%      210.000000     2.000000     NaN  \n",
      "max      360.000000     5.000000     NaN  \n",
      "\n",
      "--- Missing Value per Kolom ---\n",
      "TANGGAL    0\n",
      "TN         0\n",
      "TX         0\n",
      "TAVG       0\n",
      "RH_AVG     0\n",
      "RR         0\n",
      "SS         0\n",
      "FF_X       0\n",
      "DDD_X      0\n",
      "FF_AVG     0\n",
      "DDD_CAR    0\n",
      "dtype: int64\n"
     ]
    },
    {
     "data": {
      "image/png": "[encoded data removed]",
      "text/plain": [
       "<Figure size 1000x400 with 1 Axes>"
      ]
     },
     "metadata": {},
     "output_type": "display_data"
    }
   ],
   "source": [
    "print(\"\\n--- Info Awal Dataset ---\")\n",
    "df.info()\n",
    "\n",
    "print(\"\\n--- Statistik Deskriptif ---\")\n",
    "print(df.describe(include='all'))\n",
    "\n",
    "print(\"\\n--- Missing Value per Kolom ---\")\n",
    "print(df.isnull().sum())\n",
    "\n",
    "# === Visualisasi Missing Value\n",
    "plt.figure(figsize=(10, 4))\n",
    "sns.heatmap(df.isnull(), cbar=False, cmap='viridis')\n",
    "plt.title('Heatmap Missing Values')\n",
    "plt.tight_layout()\n",
    "plt.show()\n",
    "\n"
   ]
  },
  {
   "cell_type": "code",
   "execution_count": 68,
   "id": "091746ce",
   "metadata": {},
   "outputs": [
    {
     "name": "stderr",
     "output_type": "stream",
     "text": [
      "C:\\Users\\HP\\AppData\\Local\\Temp\\ipykernel_17752\\4087331000.py:2: FutureWarning: Downcasting behavior in `replace` is deprecated and will be removed in a future version. To retain the old behavior, explicitly call `result.infer_objects(copy=False)`. To opt-in to the future behavior, set `pd.set_option('future.no_silent_downcasting', True)`\n",
      "  df = df.replace(['8888', '9999', '-', 8888, 9999], np.nan).infer_objects()\n"
     ]
    }
   ],
   "source": [
    "# missing value handling\n",
    "df = df.replace(['8888', '9999', '-', 8888, 9999], np.nan).infer_objects()\n",
    "numeric_columns = ['TN', 'TX', 'TAVG', 'RH_AVG', 'RR', 'SS']\n",
    "for col in numeric_columns:\n",
    "    df[col] = pd.to_numeric(df[col], errors='coerce')"
   ]
  },
  {
   "cell_type": "code",
   "execution_count": 69,
   "id": "e590b291",
   "metadata": {},
   "outputs": [],
   "source": [
    "df['TANGGAL'] = pd.to_datetime(df['TANGGAL'], format='%d-%m-%Y')\n",
    "df = df.sort_values(by='TANGGAL').reset_index(drop=True)\n"
   ]
  },
  {
   "cell_type": "code",
   "execution_count": 70,
   "id": "5d1cf146",
   "metadata": {},
   "outputs": [],
   "source": [
    "imputer = SimpleImputer(strategy='median')\n",
    "columns_to_impute = df.select_dtypes(include=np.number).columns.tolist()\n",
    "if 'TANGGAL' in columns_to_impute:\n",
    "    columns_to_impute.remove('TANGGAL')\n",
    "df[columns_to_impute] = imputer.fit_transform(df[columns_to_impute])"
   ]
  },
  {
   "cell_type": "code",
   "execution_count": 71,
   "id": "00bc30ee",
   "metadata": {},
   "outputs": [],
   "source": [
    "# === Feature Engineering ===\n",
    "df['RR_lag1'] = df['RR'].shift(1)\n",
    "df['TAVG_lag1'] = df['TAVG'].shift(1)\n",
    "df['RH_AVG_lag1'] = df['RH_AVG'].shift(1)\n",
    "df['SS_lag1'] = df['SS'].shift(1)\n",
    "df['TX_lag1'] = df['TX'].shift(1)\n",
    "df['TN_lag1'] = df['TN'].shift(1)\n",
    "df['RR_rolling_mean_3d_lag1'] = df['RR'].rolling(window=3, min_periods=1).mean().shift(1)\n",
    "\n",
    "df_preprocessed_full = df.copy()\n",
    "df.dropna(inplace=True)"
   ]
  },
  {
   "cell_type": "code",
   "execution_count": 72,
   "id": "15351457",
   "metadata": {},
   "outputs": [],
   "source": [
    "#kategorisasi target\n",
    "def rr_categorization(rr):\n",
    "    if rr == 0:\n",
    "        return 'No Rain'\n",
    "    elif rr <= 20:\n",
    "        return 'Hujan Ringan'\n",
    "    elif rr <= 50:\n",
    "        return 'Hujan Sedang'\n",
    "    elif rr <= 100:\n",
    "        return 'Hujan Lebat'\n",
    "    else:\n",
    "        return 'Hujan Sangat Lebat'\n",
    "\n",
    "df['RR_KAT'] = df['RR'].apply(rr_categorization)"
   ]
  },
  {
   "cell_type": "code",
   "execution_count": 73,
   "id": "9aed3cfb",
   "metadata": {},
   "outputs": [],
   "source": [
    "#encoding \n",
    "le = LabelEncoder()\n",
    "df['RR_KAT_ENC'] = le.fit_transform(df['RR_KAT'])\n"
   ]
  },
  {
   "cell_type": "code",
   "execution_count": 74,
   "id": "6bdb3889",
   "metadata": {},
   "outputs": [],
   "source": [
    "#feature engineering\n",
    "feature_columns = [\n",
    "    'TN', 'TX', 'TAVG', 'RH_AVG', 'SS',\n",
    "    'RR_lag1', 'TAVG_lag1', 'RH_AVG_lag1',\n",
    "    'SS_lag1', 'TX_lag1', 'TN_lag1',\n",
    "    'RR_rolling_mean_3d_lag1'\n",
    "]\n",
    "X = df[feature_columns]\n",
    "y = df['RR_KAT_ENC']"
   ]
  },
  {
   "cell_type": "code",
   "execution_count": 75,
   "id": "baec395f",
   "metadata": {},
   "outputs": [],
   "source": [
    "#standarisasi \n",
    "scaler= StandardScaler()\n",
    "X_scaled = scaler.fit_transform(X)"
   ]
  },
  {
   "cell_type": "code",
   "execution_count": 76,
   "id": "701ac7ec",
   "metadata": {},
   "outputs": [],
   "source": [
    "#split data\n",
    "X_train, X_test, y_train, y_test = train_test_split(X_scaled, y, test_size=0.2, random_state=42, stratify=y)"
   ]
  },
  {
   "cell_type": "code",
   "execution_count": 77,
   "id": "a37e649c",
   "metadata": {},
   "outputs": [],
   "source": [
    "# === SMOTE hanya di training ===\n",
    "smote = SMOTE(random_state=42)\n",
    "X_train_bal, y_train_bal = smote.fit_resample(X_train, y_train)\n"
   ]
  },
  {
   "cell_type": "code",
   "execution_count": 78,
   "id": "3fafadb2",
   "metadata": {},
   "outputs": [],
   "source": [
    "# === Training Model Default ===\n",
    "nb_model = GaussianNB().fit(X_train_bal, y_train_bal)\n",
    "knn_model = KNeighborsClassifier(n_neighbors=7).fit(X_train_bal, y_train_bal)\n",
    "rf_model = RandomForestClassifier(random_state=42).fit(X_train_bal, y_train_bal)\n"
   ]
  },
  {
   "cell_type": "code",
   "execution_count": 79,
   "id": "9fb5c561",
   "metadata": {},
   "outputs": [
    {
     "name": "stdout",
     "output_type": "stream",
     "text": [
      "\n",
      "--- Evaluasi Model Default ---\n",
      "\n",
      "=== Naive Bayes ===\n",
      "Akurasi: 0.2534435261707989\n",
      "                    precision    recall  f1-score   support\n",
      "\n",
      "       Hujan Lebat       0.03      0.07      0.04        14\n",
      "      Hujan Ringan       0.77      0.11      0.19       249\n",
      "Hujan Sangat Lebat       0.12      1.00      0.22         4\n",
      "      Hujan Sedang       0.16      0.31      0.21        36\n",
      "           No Rain       0.26      0.82      0.39        60\n",
      "\n",
      "          accuracy                           0.25       363\n",
      "         macro avg       0.27      0.46      0.21       363\n",
      "      weighted avg       0.59      0.25      0.22       363\n",
      "\n",
      "\n",
      "=== KNN ===\n",
      "Akurasi: 0.371900826446281\n",
      "                    precision    recall  f1-score   support\n",
      "\n",
      "       Hujan Lebat       0.09      0.29      0.13        14\n",
      "      Hujan Ringan       0.73      0.30      0.42       249\n",
      "Hujan Sangat Lebat       0.13      0.50      0.21         4\n",
      "      Hujan Sedang       0.18      0.33      0.24        36\n",
      "           No Rain       0.32      0.72      0.44        60\n",
      "\n",
      "          accuracy                           0.37       363\n",
      "         macro avg       0.29      0.43      0.29       363\n",
      "      weighted avg       0.58      0.37      0.39       363\n",
      "\n",
      "\n",
      "=== Random Forest ===\n",
      "Akurasi: 0.628099173553719\n",
      "                    precision    recall  f1-score   support\n",
      "\n",
      "       Hujan Lebat       0.17      0.07      0.10        14\n",
      "      Hujan Ringan       0.73      0.81      0.77       249\n",
      "Hujan Sangat Lebat       0.00      0.00      0.00         4\n",
      "      Hujan Sedang       0.22      0.22      0.22        36\n",
      "           No Rain       0.43      0.30      0.35        60\n",
      "\n",
      "          accuracy                           0.63       363\n",
      "         macro avg       0.31      0.28      0.29       363\n",
      "      weighted avg       0.60      0.63      0.61       363\n",
      "\n"
     ]
    },
    {
     "data": {
      "image/png": "[encoded data removed]",
      "text/plain": [
       "<Figure size 1800x500 with 6 Axes>"
      ]
     },
     "metadata": {},
     "output_type": "display_data"
    }
   ],
   "source": [
    "# === Evaluasi Model Default ===\n",
    "print(\"\\n--- Evaluasi Model Default ---\")\n",
    "for name, model in {\n",
    "    'Naive Bayes': nb_model,\n",
    "    'KNN': knn_model,\n",
    "    'Random Forest': rf_model\n",
    "}.items():\n",
    "    y_pred = model.predict(X_test)\n",
    "    print(f'\\n=== {name} ===')\n",
    "    print('Akurasi:', accuracy_score(y_test, y_pred))\n",
    "    print(classification_report(y_test, y_pred, target_names=le.classes_))\n",
    "\n",
    "# === Confusion Matrix ===\n",
    "fig, axes = plt.subplots(1, 3, figsize=(18, 5))\n",
    "ConfusionMatrixDisplay.from_estimator(nb_model, X_test, y_test, display_labels=le.classes_, cmap='Blues', ax=axes[0])\n",
    "axes[0].set_title('Naive Bayes')\n",
    "ConfusionMatrixDisplay.from_estimator(knn_model, X_test, y_test, display_labels=le.classes_, cmap='Greens', ax=axes[1])\n",
    "axes[1].set_title('KNN')\n",
    "ConfusionMatrixDisplay.from_estimator(rf_model, X_test, y_test, display_labels=le.classes_, cmap='Oranges', ax=axes[2])\n",
    "axes[2].set_title('Random Forest')\n",
    "plt.tight_layout()\n",
    "plt.show()"
   ]
  },
  {
   "cell_type": "code",
   "execution_count": 80,
   "id": "7befae93",
   "metadata": {},
   "outputs": [
    {
     "name": "stdout",
     "output_type": "stream",
     "text": [
      "\n",
      "--- Cross Validation (Default Models) ---\n",
      "GaussianNB → CV Mean: 0.4504, Std: 0.0090\n",
      "KNN → CV Mean: 0.8450, Std: 0.0080\n",
      "Random Forest → CV Mean: 0.9201, Std: 0.0241\n"
     ]
    }
   ],
   "source": [
    "# === Cross Validation Default ===\n",
    "print(\"\\n--- Cross Validation (Default Models) ---\")\n",
    "default_models = {\n",
    "    'GaussianNB': GaussianNB(),\n",
    "    'KNN': KNeighborsClassifier(),\n",
    "    'Random Forest': RandomForestClassifier(random_state=42)\n",
    "}\n",
    "for name, model in default_models.items():\n",
    "    scores = cross_val_score(model, X_train_bal, y_train_bal, cv=5, scoring='accuracy')\n",
    "    print(f\"{name} → CV Mean: {scores.mean():.4f}, Std: {scores.std():.4f}\")\n"
   ]
  },
  {
   "cell_type": "code",
   "execution_count": 81,
   "id": "8c95741c",
   "metadata": {},
   "outputs": [
    {
     "name": "stdout",
     "output_type": "stream",
     "text": [
      "\n",
      "--- Cross Validation (Default Models + Multi Metrics) ---\n",
      "\n",
      "=== GaussianNB ===\n",
      "Accuracy  : 0.4504 ± 0.0090\n",
      "Precision : 0.4593\n",
      "Recall    : 0.4504\n",
      "F1-Score  : 0.4185\n",
      "\n",
      "=== KNN ===\n",
      "Accuracy  : 0.8450 ± 0.0080\n",
      "Precision : 0.8559\n",
      "Recall    : 0.8450\n",
      "F1-Score  : 0.8170\n",
      "\n",
      "=== Random Forest ===\n",
      "Accuracy  : 0.9201 ± 0.0241\n",
      "Precision : 0.9216\n",
      "Recall    : 0.9201\n",
      "F1-Score  : 0.9181\n"
     ]
    }
   ],
   "source": [
    "from sklearn.model_selection import cross_validate\n",
    "\n",
    "print(\"\\n--- Cross Validation (Default Models + Multi Metrics) ---\")\n",
    "\n",
    "default_models = {\n",
    "    'GaussianNB': GaussianNB(),\n",
    "    'KNN': KNeighborsClassifier(),\n",
    "    'Random Forest': RandomForestClassifier(random_state=42)\n",
    "}\n",
    "\n",
    "scoring_metrics = ['accuracy', 'precision_macro', 'recall_macro', 'f1_macro']\n",
    "\n",
    "for name, model in default_models.items():\n",
    "    results = cross_validate(model, X_train_bal, y_train_bal,\n",
    "                             cv=5, scoring=scoring_metrics, return_train_score=False)\n",
    "    \n",
    "    print(f\"\\n=== {name} ===\")\n",
    "    print(f\"Accuracy  : {results['test_accuracy'].mean():.4f} ± {results['test_accuracy'].std():.4f}\")\n",
    "    print(f\"Precision : {results['test_precision_macro'].mean():.4f}\")\n",
    "    print(f\"Recall    : {results['test_recall_macro'].mean():.4f}\")\n",
    "    print(f\"F1-Score  : {results['test_f1_macro'].mean():.4f}\")\n"
   ]
  },
  {
   "cell_type": "code",
   "execution_count": 82,
   "id": "f2cfcb38",
   "metadata": {},
   "outputs": [
    {
     "name": "stdout",
     "output_type": "stream",
     "text": [
      "\n",
      "=== Tabel Hasil Cross Validation Per Fold ===\n",
      "            Model  Fold  Accuracy  Precision  Recall  F1 Score\n",
      "0      GaussianNB     1    0.4357     0.4273  0.4358    0.4025\n",
      "1      GaussianNB     2    0.4508     0.4489  0.4511    0.4192\n",
      "2      GaussianNB     3    0.4488     0.4746  0.4484    0.4158\n",
      "3      GaussianNB     4    0.4528     0.4613  0.4529    0.4217\n",
      "4      GaussianNB     5    0.4639     0.4845  0.4638    0.4333\n",
      "5             KNN     1    0.8303     0.8372  0.8302    0.8008\n",
      "6             KNN     2    0.8544     0.8606  0.8549    0.8301\n",
      "7             KNN     3    0.8484     0.8688  0.8483    0.8174\n",
      "8             KNN     4    0.8444     0.8542  0.8442    0.8124\n",
      "9             KNN     5    0.8474     0.8590  0.8472    0.8244\n",
      "10  Random Forest     1    0.8735     0.8734  0.8734    0.8728\n",
      "11  Random Forest     2    0.9227     0.9209  0.9229    0.9210\n",
      "12  Random Forest     3    0.9297     0.9331  0.9297    0.9271\n",
      "13  Random Forest     4    0.9418     0.9447  0.9417    0.9396\n",
      "14  Random Forest     5    0.9327     0.9358  0.9327    0.9300\n"
     ]
    }
   ],
   "source": [
    "import pandas as pd\n",
    "from sklearn.model_selection import cross_validate\n",
    "\n",
    "# Model & scoring\n",
    "default_models = {\n",
    "    'GaussianNB': GaussianNB(),\n",
    "    'KNN': KNeighborsClassifier(),\n",
    "    'Random Forest': RandomForestClassifier(random_state=42)\n",
    "}\n",
    "\n",
    "scoring = ['accuracy', 'precision_macro', 'recall_macro', 'f1_macro']\n",
    "cv_folds = 5\n",
    "all_cv_results = []\n",
    "\n",
    "# Loop model\n",
    "for name, model in default_models.items():\n",
    "    results = cross_validate(model, X_train_bal, y_train_bal,\n",
    "                             cv=cv_folds, scoring=scoring, return_train_score=False)\n",
    "    \n",
    "    for i in range(cv_folds):\n",
    "        all_cv_results.append({\n",
    "            'Model': name,\n",
    "            'Fold': i + 1,\n",
    "            'Accuracy': results['test_accuracy'][i],\n",
    "            'Precision': results['test_precision_macro'][i],\n",
    "            'Recall': results['test_recall_macro'][i],\n",
    "            'F1 Score': results['test_f1_macro'][i]\n",
    "        })\n",
    "\n",
    "# Buat DataFrame\n",
    "df_cv_results = pd.DataFrame(all_cv_results)\n",
    "\n",
    "# Tampilkan\n",
    "print(\"\\n=== Tabel Hasil Cross Validation Per Fold ===\")\n",
    "print(df_cv_results.round(4))\n"
   ]
  },
  {
   "cell_type": "code",
   "execution_count": 83,
   "id": "5b97b3b3",
   "metadata": {},
   "outputs": [
    {
     "name": "stdout",
     "output_type": "stream",
     "text": [
      "\n",
      "=== Perbandingan Evaluasi: Test vs Cross-Validation ===\n",
      "           Model  Test Accuracy  Test Precision  Test Recall  Test F1 Score  \\\n",
      "0    Naive Bayes         0.2534          0.2676       0.4604         0.2095   \n",
      "1            KNN         0.3884          0.2923       0.4165         0.2986   \n",
      "2  Random Forest         0.6281          0.3097       0.2802         0.2885   \n",
      "\n",
      "   CV Accuracy  CV Precision  CV Recall  CV F1 Score  \n",
      "0       0.4504        0.4593     0.4504       0.4185  \n",
      "1       0.8450        0.8559     0.8450       0.8170  \n",
      "2       0.9201        0.9216     0.9201       0.9181  \n"
     ]
    }
   ],
   "source": [
    "from sklearn.metrics import precision_score, recall_score, f1_score\n",
    "from sklearn.model_selection import cross_validate\n",
    "import pandas as pd\n",
    "\n",
    "# === Definisikan Model\n",
    "default_models = {\n",
    "    'Naive Bayes': GaussianNB(),\n",
    "    'KNN': KNeighborsClassifier(),\n",
    "    'Random Forest': RandomForestClassifier(random_state=42)\n",
    "}\n",
    "\n",
    "# === 1. Evaluasi di Test Set (tanpa CV)\n",
    "test_results = []\n",
    "for name, model in default_models.items():\n",
    "    model.fit(X_train_bal, y_train_bal)\n",
    "    y_pred = model.predict(X_test)\n",
    "    test_results.append({\n",
    "        'Model': name,\n",
    "        'Test Accuracy': accuracy_score(y_test, y_pred),\n",
    "        'Test Precision': precision_score(y_test, y_pred, average='macro', zero_division=0),\n",
    "        'Test Recall': recall_score(y_test, y_pred, average='macro'),\n",
    "        'Test F1 Score': f1_score(y_test, y_pred, average='macro')\n",
    "    })\n",
    "df_test_results = pd.DataFrame(test_results).round(4)\n",
    "\n",
    "# === 2. Evaluasi Cross-Validation di Train (5-Fold CV)\n",
    "scoring = ['accuracy', 'precision_macro', 'recall_macro', 'f1_macro']\n",
    "cv_results = []\n",
    "for name, model in default_models.items():\n",
    "    scores = cross_validate(model, X_train_bal, y_train_bal, cv=5, scoring=scoring)\n",
    "    cv_results.append({\n",
    "        'Model': name,\n",
    "        'CV Accuracy': scores['test_accuracy'].mean(),\n",
    "        'CV Precision': scores['test_precision_macro'].mean(),\n",
    "        'CV Recall': scores['test_recall_macro'].mean(),\n",
    "        'CV F1 Score': scores['test_f1_macro'].mean()\n",
    "    })\n",
    "df_cv_results = pd.DataFrame(cv_results).round(4)\n",
    "\n",
    "# === Gabungkan Tabel\n",
    "df_compare = pd.merge(df_test_results, df_cv_results, on='Model')\n",
    "print(\"\\n=== Perbandingan Evaluasi: Test vs Cross-Validation ===\")\n",
    "print(df_compare)\n"
   ]
  },
  {
   "cell_type": "code",
   "execution_count": 84,
   "id": "d53e58ab",
   "metadata": {},
   "outputs": [
    {
     "name": "stdout",
     "output_type": "stream",
     "text": [
      "\n",
      "=== Cross Validation (Tuned Random Forest) ===\n",
      "accuracy: 0.9187 ± 0.0056\n",
      "precision_macro: 0.9176 ± 0.0054\n",
      "recall_macro: 0.9187 ± 0.0057\n",
      "f1_macro: 0.9167 ± 0.0059\n"
     ]
    }
   ],
   "source": [
    "from sklearn.model_selection import cross_validate\n",
    "\n",
    "scoring = ['accuracy', 'precision_macro', 'recall_macro', 'f1_macro']\n",
    "cv_scores = cross_validate(rf_best, X_train_bal, y_train_bal, scoring=scoring, cv=skf)\n",
    "\n",
    "print(\"\\n=== Cross Validation (Tuned Random Forest) ===\")\n",
    "for s in scoring:\n",
    "    print(f\"{s}: {cv_scores[f'test_{s}'].mean():.4f} ± {cv_scores[f'test_{s}'].std():.4f}\")\n"
   ]
  },
  {
   "cell_type": "code",
   "execution_count": 85,
   "id": "203fbffd",
   "metadata": {},
   "outputs": [
    {
     "data": {
      "image/png": "[encoded data removed]",
      "text/plain": [
       "<Figure size 800x500 with 1 Axes>"
      ]
     },
     "metadata": {},
     "output_type": "display_data"
    }
   ],
   "source": [
    "model_names = ['GaussianNB', 'KNN', 'Random Forest']\n",
    "cv_means = [0.4504, 0.8450, 0.9201]\n",
    "cv_stds = [0.0090, 0.0080, 0.0241]\n",
    "\n",
    "x = np.arange(len(model_names))\n",
    "width = 0.6\n",
    "\n",
    "plt.figure(figsize=(8, 5))\n",
    "plt.bar(x, cv_means, yerr=cv_stds, capsize=10, color='skyblue', edgecolor='black')\n",
    "plt.xticks(x, model_names)\n",
    "plt.ylim(0, 1)\n",
    "plt.title('Cross Validation Accuracy (5-Fold)')\n",
    "plt.ylabel('Mean Accuracy')\n",
    "plt.xlabel('Model')\n",
    "\n",
    "for i, v in enumerate(cv_means):\n",
    "    plt.text(i, v + 0.02, f\"{v:.4f}\", ha='center', fontweight='bold')\n",
    "\n",
    "plt.tight_layout()\n",
    "plt.show()"
   ]
  },
  {
   "cell_type": "code",
   "execution_count": 86,
   "id": "64a172b1",
   "metadata": {},
   "outputs": [
    {
     "name": "stdout",
     "output_type": "stream",
     "text": [
      "\n",
      "--- Prediksi 7 Hari ke Depan ---\n",
      "      Tanggal   Naive Bayes      KNN Random Forest\n",
      "0  2025-01-01       No Rain  No Rain  Hujan Ringan\n",
      "1  2025-01-02  Hujan Sedang  No Rain       No Rain\n",
      "2  2025-01-03  Hujan Sedang  No Rain       No Rain\n",
      "3  2025-01-04  Hujan Sedang  No Rain       No Rain\n",
      "4  2025-01-05  Hujan Sedang  No Rain       No Rain\n",
      "5  2025-01-06  Hujan Sedang  No Rain       No Rain\n",
      "6  2025-01-07  Hujan Sedang  No Rain       No Rain\n"
     ]
    }
   ],
   "source": [
    "n_future_days = 7  # Ubah ke 5 jika hanya ingin 5 hari\n",
    "print(f\"\\n--- Prediksi {n_future_days} Hari ke Depan ---\")\n",
    "\n",
    "future_preds = []\n",
    "last_row = df_preprocessed_full.iloc[-1]\n",
    "last_date = last_row['TANGGAL']\n",
    "future_dates = [last_date + pd.Timedelta(days=i) for i in range(1, n_future_days + 1)]\n",
    "avg7 = df_preprocessed_full[numeric_columns].iloc[-7:].mean()\n",
    "\n",
    "for i, date in enumerate(future_dates):\n",
    "    f = {\n",
    "        'TN': avg7['TN'], 'TX': avg7['TX'], 'TAVG': avg7['TAVG'],\n",
    "        'RH_AVG': avg7['RH_AVG'], 'RR': avg7['RR'], 'SS': avg7['SS']\n",
    "    }\n",
    "\n",
    "    if i == 0:\n",
    "        f.update({\n",
    "            'RR_lag1': last_row['RR'], 'TAVG_lag1': last_row['TAVG'], 'RH_AVG_lag1': last_row['RH_AVG'],\n",
    "            'SS_lag1': last_row['SS'], 'TX_lag1': last_row['TX'], 'TN_lag1': last_row['TN'],\n",
    "            'RR_rolling_mean_3d_lag1': df_preprocessed_full['RR'].iloc[-3:].mean()\n",
    "        })\n",
    "    else:\n",
    "        f.update({\n",
    "            'RR_lag1': avg7['RR'], 'TAVG_lag1': avg7['TAVG'], 'RH_AVG_lag1': avg7['RH_AVG'],\n",
    "            'SS_lag1': avg7['SS'], 'TX_lag1': avg7['TX'], 'TN_lag1': avg7['TN'],\n",
    "            'RR_rolling_mean_3d_lag1': avg7['RR']\n",
    "        })\n",
    "\n",
    "    row = pd.DataFrame([f])[feature_columns]\n",
    "    scaled_row = scaler.transform(row)\n",
    "\n",
    "    future_preds.append({\n",
    "        'Tanggal': date.strftime('%Y-%m-%d'),\n",
    "        'Naive Bayes': le.inverse_transform([nb_best.predict(scaled_row)[0]])[0],\n",
    "        'KNN': le.inverse_transform([knn_best.predict(scaled_row)[0]])[0],\n",
    "        'Random Forest': le.inverse_transform([rf_best.predict(scaled_row)[0]])[0]\n",
    "    })\n",
    "\n",
    "df_prediksi = pd.DataFrame(future_preds)\n",
    "print(df_prediksi)\n",
    " "
   ]
  },
  {
   "cell_type": "code",
   "execution_count": 87,
   "id": "eaffa65f",
   "metadata": {},
   "outputs": [],
   "source": [
    "def predict_from_input(last_data: dict, n_days=5):\n",
    "    future_preds = []\n",
    "    avg7 = df_preprocessed_full[numeric_columns].iloc[-7:].mean()\n",
    "    last_date = last_data['TANGGAL']\n",
    "    future_dates = [last_date + pd.Timedelta(days=i) for i in range(1, n_days + 1)]\n",
    "\n",
    "    for i, tgl in enumerate(future_dates):\n",
    "        f = {\n",
    "            'TN': avg7['TN'], 'TX': avg7['TX'], 'TAVG': avg7['TAVG'],\n",
    "            'RH_AVG': avg7['RH_AVG'], 'RR': avg7['RR'], 'SS': avg7['SS']\n",
    "        }\n",
    "\n",
    "        if i == 0:\n",
    "            f.update({\n",
    "                'RR_lag1': last_data['RR'], 'TAVG_lag1': last_data['TAVG'], 'RH_AVG_lag1': last_data['RH_AVG'],\n",
    "                'SS_lag1': last_data['SS'], 'TX_lag1': last_data['TX'], 'TN_lag1': last_data['TN'],\n",
    "                'RR_rolling_mean_3d_lag1': df_preprocessed_full['RR'].iloc[-3:].mean()\n",
    "            })\n",
    "        else:\n",
    "            f.update({\n",
    "                'RR_lag1': avg7['RR'], 'TAVG_lag1': avg7['TAVG'], 'RH_AVG_lag1': avg7['RH_AVG'],\n",
    "                'SS_lag1': avg7['SS'], 'TX_lag1': avg7['TX'], 'TN_lag1': avg7['TN'],\n",
    "                'RR_rolling_mean_3d_lag1': avg7['RR']\n",
    "            })\n",
    "\n",
    "        row = pd.DataFrame([f])[feature_columns]\n",
    "        scaled = scaler.transform(row)\n",
    "\n",
    "        future_preds.append({\n",
    "            'Tanggal': tgl.strftime('%Y-%m-%d'),\n",
    "            'Naive Bayes': le.inverse_transform([nb_best.predict(scaled)[0]])[0],\n",
    "            'KNN': le.inverse_transform([knn_best.predict(scaled)[0]])[0],\n",
    "            'Random Forest': le.inverse_transform([rf_best.predict(scaled)[0]])[0]\n",
    "        })\n",
    "\n",
    "    return pd.DataFrame(future_preds)\n"
   ]
  },
  {
   "cell_type": "code",
   "execution_count": 88,
   "id": "47c3aa11",
   "metadata": {},
   "outputs": [
    {
     "name": "stdout",
     "output_type": "stream",
     "text": [
      "      Tanggal   Naive Bayes      KNN Random Forest\n",
      "0  2025-06-26  Hujan Ringan  No Rain       No Rain\n",
      "1  2025-06-27  Hujan Sedang  No Rain       No Rain\n",
      "2  2025-06-28  Hujan Sedang  No Rain       No Rain\n",
      "3  2025-06-29  Hujan Sedang  No Rain       No Rain\n",
      "4  2025-06-30  Hujan Sedang  No Rain       No Rain\n",
      "5  2025-07-01  Hujan Sedang  No Rain       No Rain\n",
      "6  2025-07-02  Hujan Sedang  No Rain       No Rain\n"
     ]
    }
   ],
   "source": [
    "# Input dari user (misalnya hari ini)\n",
    "manual_input = {\n",
    "    'TANGGAL': pd.Timestamp('2025-06-25'),\n",
    "    'TN': 23.4,\n",
    "    'TX': 32.1,\n",
    "    'TAVG': 27.3,\n",
    "    'RH_AVG': 81.2,\n",
    "    'RR': 12.5,\n",
    "    'SS': 6.0\n",
    "}\n",
    "pred_manual = predict_from_input(manual_input, n_days=7)\n",
    "print(pred_manual)\n"
   ]
  }
 ],
 "metadata": {
  "kernelspec": {
   "display_name": "venv",
   "language": "python",
   "name": "python3"
  },
  "language_info": {
   "codemirror_mode": {
    "name": "ipython",
    "version": 3
   },
   "file_extension": ".py",
   "mimetype": "text/x-python",
   "name": "python",
   "nbconvert_exporter": "python",
   "pygments_lexer": "ipython3",
   "version": "3.10.0"
  }
 },
 "nbformat": 4,
 "nbformat_minor": 5
}
